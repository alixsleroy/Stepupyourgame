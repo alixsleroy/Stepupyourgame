{
 "cells": [
  {
   "cell_type": "code",
   "execution_count": 1,
   "metadata": {},
   "outputs": [],
   "source": [
    "import os\n",
    "import matplotlib.pyplot as plt\n",
    "import re\n",
    "import sys\n",
    "import numpy as np\n",
    "from scipy.stats import norm\n",
    "import scipy.integrate as integrate\n",
    "\n",
    "import pandas as pd\n",
    "font_size=25\n",
    "lw=4\n",
    "\n",
    "myblue = (0,119/235,187/235)\n",
    "myred=(187/235,85/235,102/235)\n",
    "myyellow=(221/235,170/235,51/235)\n",
    "mygrey=(187/235,187/235,187/235)\n",
    "mygreen=\"#66BB55\"\n",
    "mymagenta=\"#7733DD\"\n",
    "\n",
    "import matplotlib.ticker as mtick\n",
    "plt.rc('xtick', labelsize=font_size) \n",
    "plt.rc('ytick', labelsize=font_size) \n",
    "\n",
    "from settings_and_potential import *"
   ]
  },
  {
   "cell_type": "code",
   "execution_count": 2,
   "metadata": {},
   "outputs": [],
   "source": [
    "## When no access to the true moment\n",
    "# ###########################################\n",
    "# ## Range of integration + path to save figure\n",
    "#############################################\n",
    "range_int=[-10,10]\n",
    "a=range_int[0]\n",
    "b=range_int[1]\n",
    "norm=np.round(integrate.quad(lambda q: np.exp(-U(q)/tau), a,b)[0],16)\n",
    "true_mom_1 = np.round(integrate.quad(lambda q: np.exp(-U(q)/tau)*(q), a,b)[0],16)/norm\n",
    "true_mom_2 = np.round(integrate.quad(lambda q: np.exp(-U(q)/tau)*q*q, a,b)[0],16)/norm\n",
    "true_mom_3 = np.round(integrate.quad(lambda q: np.exp(-U(q)/tau)*(q)**3, a,b)[0],16)/norm\n",
    "true_mom_4 = np.round(integrate.quad(lambda q: np.exp(-U(q)/tau)*q*q*q*q, a,b)[0],16)/norm"
   ]
  },
  {
   "cell_type": "code",
   "execution_count": 4,
   "metadata": {},
   "outputs": [
    {
     "data": {
      "image/png": "[encoded data removed]",
      "text/plain": [
       "<Figure size 1440x504 with 4 Axes>"
      ]
     },
     "metadata": {
      "needs_background": "light"
     },
     "output_type": "display_data"
    }
   ],
   "source": [
    "# ###########################################\n",
    "# ## Set up the path\n",
    "# ###########################################\n",
    "os.chdir(\"/home/s2133976/OneDrive/ExtendedProject/Code/Stepupyourgame/Stepupyourgame/data/C/underdamped/1d\")\n",
    "\n",
    "\n",
    "# ###########################################\n",
    "# ## Interpolate the slope\n",
    "# ###########################################\n",
    "xm= np.log(dtlist)\n",
    "lb=0\n",
    "ub=len(dtlist)+1\n",
    "x = np.log(dtlist[lb:ub])\n",
    "A = np.vstack([x, np.ones(len(x))]).T\n",
    "\n",
    "# ###########################################\n",
    "# ## Compute the log moments\n",
    "# ###########################################\n",
    "fig, (ax1,ax2,ax3,ax4)= plt.subplots(1,4,figsize=(20,7))# plt.figure(figsize=(4,4))\n",
    "fig.subplots_adjust(left=0.1,bottom=0.1, right=0.9, top=0.9, wspace=0.4, hspace=0.4)\n",
    "\n",
    "ax1.set_title(\"First moment\",fontsize=font_size)\n",
    "ax2.set_title(\"Second moment\",fontsize=font_size)\n",
    "ax3.set_title(\"Third moment\",fontsize=font_size)\n",
    "ax4.set_title(\"Fourth moment\",fontsize=font_size)\n",
    "\n",
    "## no adaptive \n",
    "###############\n",
    "lab=\"Overdamped\"\n",
    "\n",
    "# Upload moments\n",
    "mom1_list=np.hstack(openCfile(\"noada_moment1.txt\"))\n",
    "mom2_list=np.hstack(openCfile(\"noada_moment2.txt\"))\n",
    "mom3_list=np.hstack(openCfile(\"noada_moment3.txt\"))\n",
    "mom4_list=np.hstack(openCfile(\"noada_moment4.txt\"))\n",
    "\n",
    "mom1_list=np.abs(mom1_list-true_mom_1)\n",
    "mom2_list=np.abs(mom2_list-true_mom_2)\n",
    "mom3_list=np.abs(mom3_list-true_mom_3)\n",
    "mom4_list=np.abs(mom4_list-true_mom_4)\n"
   ]
  },
  {
   "cell_type": "code",
   "execution_count": null,
   "metadata": {},
   "outputs": [],
   "source": []
  }
 ],
 "metadata": {
  "kernelspec": {
   "display_name": "Python 3",
   "language": "python",
   "name": "python3"
  },
  "language_info": {
   "codemirror_mode": {
    "name": "ipython",
    "version": 3
   },
   "file_extension": ".py",
   "mimetype": "text/x-python",
   "name": "python",
   "nbconvert_exporter": "python",
   "pygments_lexer": "ipython3",
   "version": "3.8.10"
  },
  "orig_nbformat": 4
 },
 "nbformat": 4,
 "nbformat_minor": 2
}

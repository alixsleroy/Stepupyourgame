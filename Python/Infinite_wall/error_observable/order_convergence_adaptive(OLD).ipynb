{
 "cells": [
  {
   "cell_type": "markdown",
   "metadata": {},
   "source": [
    "# OLD VERSION OF ADAPTIVE STEP SIZE (dt+=g dt instead of dt+=dt)"
   ]
  },
  {
   "cell_type": "markdown",
   "metadata": {},
   "source": [
    "## Work on different SDE and look at order of convergence\n",
    "\n",
    "In this section, we present different toy model and have a look at how the adaptive method perform compared to non adaptive.\n",
    "\n",
    "The first model is: \n",
    "$$\n",
    "U(x) = 0.1 x^2 + \\cos(x)^2\\\\\n",
    "U'(x) = 0.2x -2 \\sin(x) \\cos(x)\n",
    "$$\n",
    "so the SDE of interest is : \n",
    "$$\n",
    "dx = -U'(x) dt + \\sqrt{2 \\tau dt} dW \\\\\n",
    "$$\n",
    "\n",
    "and the transformed one is: \n",
    "$$\n",
    "dy = -U'(y) g(y) dy +\\tau g'(y) dt+ \\sqrt{2 \\tau dt g(y)} dW \\\\\n",
    "$$\n"
   ]
  },
  {
   "cell_type": "code",
   "execution_count": 2,
   "metadata": {},
   "outputs": [],
   "source": [
    "import numpy as np\n",
    "import matplotlib\n",
    "matplotlib.rcParams['text.usetex'] = True\n",
    "import matplotlib.pyplot as plt\n",
    "%matplotlib inline\n",
    "# font = {'family' : 'normal',\n",
    "#         'weight' : 'bold',\n",
    "#         'size'   : 17}\n",
    "\n",
    "# matplotlib.rc('font', **font)\n",
    "\n",
    "import scipy.integrate as integrate\n",
    "## ---------------- Mathplotlib settings ----------------\n",
    "SMALL_SIZE = 12\n",
    "MEDIUM_SIZE = 20\n",
    "BIGGER_SIZE = 25\n",
    "\n",
    "plt.rc('font', size=MEDIUM_SIZE)          # controls default text sizes\n",
    "plt.rc('axes', titlesize=MEDIUM_SIZE)     # fontsize of the axes title\n",
    "plt.rc('axes', labelsize=MEDIUM_SIZE)    # fontsize of the x and y labels\n",
    "plt.rc('xtick', labelsize=MEDIUM_SIZE)    # fontsize of the tick labels\n",
    "plt.rc('ytick', labelsize=MEDIUM_SIZE)    # fontsize of the tick labels\n",
    "plt.rc('legend', fontsize=SMALL_SIZE)    # legend fontsize\n",
    "plt.rc('figure', titlesize=BIGGER_SIZE)  # fontsize of the figure title"
   ]
  },
  {
   "cell_type": "markdown",
   "metadata": {},
   "source": [
    "### Code for SDE (non adaptive)"
   ]
  },
  {
   "cell_type": "code",
   "execution_count": 3,
   "metadata": {},
   "outputs": [],
   "source": [
    "########################\n",
    "# Potential parameters #\n",
    "########################\n",
    "from numba import jit,njit,vectorize, float64, int32\n",
    "\n",
    "def getU(x):\n",
    "    \"\"\"\n",
    "    potential of -the infinite double well\n",
    "    \"\"\"\n",
    "\n",
    "    return 0.1*x*x+np.cos(x)*np.cos(x)\n",
    "    \n",
    "# define the gradV function \n",
    "@njit(float64(float64))\n",
    "def getminusdU(x):\n",
    "    \"\"\"\n",
    "    Compute the potential of the infinite double well:\n",
    "    x: float \n",
    "    \"\"\"\n",
    "\n",
    "    return 0.2*x-2*np.sin(x)*np.cos(x)\n",
    "\n",
    "\n",
    "@njit(float64(float64,float64,float64,float64))\n",
    "def e_m_method(y0,s,b1,dt):\n",
    "    \"\"\"\n",
    "    The Euler-Maruyama scheme applied to the overdamped langevin with infinite double well:\n",
    "    Input\n",
    "    -----\n",
    "    y0: float\n",
    "        value of y at t_n\n",
    "    s: float\n",
    "        value of additive noise constant\n",
    "    b1: float\n",
    "        brownian increment \n",
    "    dt: float\n",
    "        time increment\n",
    "\n",
    "    Output\n",
    "    ------\n",
    "    y1: float \n",
    "        value of y at time t+h\n",
    "\n",
    "    \"\"\"\n",
    "    y1=y0 - getminusdU(y0)*dt+s*b1\n",
    "    return y1    \n",
    "\n",
    "\n",
    "@njit(float64(float64,float64,float64))\n",
    "def run_num(Ntot,dt,s):\n",
    "    \"\"\"\n",
    "    Run the simulation for one sample path\n",
    "    Input\n",
    "    -----\n",
    "    Ntot: int\n",
    "        Number of steps to take to get to Tf with dt\n",
    "    dt: float \n",
    "        Value of time increment. Is 1/N.\n",
    "    s: float \n",
    "        Is sqrt(2 \\tau dt). \n",
    "    Return\n",
    "    ------\n",
    "    y0: float\n",
    "        Value of X(T) as approximated by the numerical scheme chosen\n",
    "        \n",
    "    \"\"\"\n",
    "    y0 = np.random.normal(0,1) #set up 1 as initial conditions\n",
    "    for jj in range(Ntot): # Run until T= Tsec\n",
    "        b1 = np.random.normal(0,1)\n",
    "        y1 = e_m_method(y0,s,b1,dt)\n",
    "        y0=y1 \n",
    "    return (y0)\n",
    "\n",
    "\n",
    "\n",
    "@njit(parallel=True)\n",
    "def nsample(n_samples,T,dt,tau): # Function is compiled and runs in machine code\n",
    "    \"\"\"\n",
    "    Input\n",
    "    -------\n",
    "    n_samples: int\n",
    "        Number of sample to draw\n",
    "    T: int \n",
    "        Final time\n",
    "    dt: float\n",
    "        Size of the time discretization \n",
    "    tau: float\n",
    "        Value of the temperature of the DW SDE (+ sqrt(2*tau)*dW)\n",
    "\n",
    "    Return\n",
    "    -------\n",
    "    y_final: np.array\n",
    "        Array of shape (M,). Sample of numerical approximation of the DW SDE at time T\n",
    "    \n",
    "    \"\"\"\n",
    "    N = int(np.round(1/dt,6))  #size of the time steps\n",
    "    Ntot = N*T #total number of steps to take to arrive at T in steps of dt \n",
    "    y_final = [] \n",
    "    s = np.sqrt(2*tau*dt)\n",
    "    for i in range(n_samples):\n",
    "        yf =run_num(Ntot,dt,s)\n",
    "        y_final.append(yf)\n",
    "    y_final=np.array(y_final)\n",
    "    return y_final\n",
    "\n"
   ]
  },
  {
   "cell_type": "code",
   "execution_count": 4,
   "metadata": {},
   "outputs": [
    {
     "name": "stdout",
     "output_type": "stream",
     "text": [
      "CPU times: user 807 ms, sys: 0 ns, total: 807 ms\n",
      "Wall time: 637 ms\n",
      "CPU times: user 11.1 s, sys: 899 µs, total: 11.1 s\n",
      "Wall time: 1.16 s\n"
     ]
    }
   ],
   "source": [
    "## RUNNING TIME 3min !!\n",
    "n_samples=100000\n",
    "T=10\n",
    "tau=1\n",
    "dt=0.01\n",
    "dtbounds = np.array([0.01,0.01])\n",
    "## environ 60.5ms sec for those parameters\n",
    "### Compile and run without the correction term G\n",
    "####################-------######################\n",
    "%time nsample(1,T,dt,tau)\n",
    "%time y = nsample(n_samples,T,dt,tau)"
   ]
  },
  {
   "cell_type": "code",
   "execution_count": 5,
   "metadata": {},
   "outputs": [
    {
     "data": {
      "text/plain": [
       "[<matplotlib.lines.Line2D at 0x7fbb09fcce80>]"
      ]
     },
     "execution_count": 5,
     "metadata": {},
     "output_type": "execute_result"
    },
    {
     "data": {
      "image/png": "[encoded data removed]",
      "text/plain": [
       "<Figure size 360x360 with 1 Axes>"
      ]
     },
     "metadata": {
      "needs_background": "light"
     },
     "output_type": "display_data"
    }
   ],
   "source": [
    "bound=6\n",
    "fig, ((ax1))= plt.subplots(1,1,figsize=(5,5))# plt.figure(figsize=(4,4))\n",
    "fig.subplots_adjust(left=0.1,bottom=0.1, right=0.9, top=0.9, wspace=0.4, hspace=0.4)\n",
    "\n",
    "### Plot without the correction term G\n",
    "########-------#######################\n",
    "histogram,bins = np.histogram(y,bins=100,range=[-bound,bound], density=True)\n",
    "midx = (bins[0:-1]+bins[1:])/2\n",
    "ax1.plot(midx,histogram,label=\"without G\",color=\"green\")\n",
    "rho = np.exp(- (getU(midx)/tau))\n",
    "rho = rho / ( np.sum(rho) * (midx[1]-midx[0]) ) \n",
    "ax1.plot(midx,rho,'--',label='Truth',color=\"orange\")"
   ]
  },
  {
   "cell_type": "markdown",
   "metadata": {},
   "source": [
    "### Code for tranfromed SDE"
   ]
  },
  {
   "cell_type": "code",
   "execution_count": 6,
   "metadata": {},
   "outputs": [
    {
     "name": "stderr",
     "output_type": "stream",
     "text": [
      "/home/s2133976/.local/lib/python3.8/site-packages/numba/core/decorators.py:253: RuntimeWarning: nopython is set for njit and is ignored\n",
      "  warnings.warn('nopython is set for njit and is ignored', RuntimeWarning)\n"
     ]
    }
   ],
   "source": [
    "############ WRITE ON FASTER CODE FOR ADAPIVE METHOD ##############\n",
    "from numba import jit,njit,vectorize, float64, int32, boolean\n",
    "\n",
    "########################\n",
    "# Potential parameters #\n",
    "########################\n",
    "\n",
    "def getU(x):\n",
    "    \"\"\"\n",
    "    potential of -the infinite double well\n",
    "    \"\"\"\n",
    "\n",
    "    return 0.1*x*x+np.cos(x)*np.cos(x)\n",
    "    \n",
    "# define the gradV function \n",
    "@njit(float64(float64))\n",
    "def getminusdU(x):\n",
    "    \"\"\"\n",
    "    Compute the potential of the infinite double well:\n",
    "    x: float \n",
    "    \"\"\"\n",
    "\n",
    "    return 0.2*x-2*np.sin(x)*np.cos(x)\n",
    "\n",
    "########################\n",
    "#  Adaptive function G #\n",
    "########################\n",
    "\n",
    "\n",
    "@njit(float64[:](float64,float64,float64[:]))\n",
    "def getg(x,h,dtbounds):\n",
    "    \"\"\"\n",
    "    Compute the value of the adaptive function choosen:\n",
    "    x: float \n",
    "    \"\"\"\n",
    "    dtmin=dtbounds[0]\n",
    "    dtmax=dtbounds[1]\n",
    "\n",
    "    M=h/dtmin\n",
    "    m=h/dtmax\n",
    "\n",
    "    x3=np.power(x,3)\n",
    "\n",
    "    # value of function f, f' and f^2\n",
    "    f=0.2*x-2*np.sin(x)*np.cos(x)\n",
    "    fprime= 2*np.sin(x)*np.sin(x)-2*np.cos(x)*np.cos(x)+0.2\n",
    "    f2 = f*f\n",
    "\n",
    "    #compute the value of phi(f(x)) = \\sqrt{f(x)^2}\n",
    "    phif = np.sqrt(f2)\n",
    "    phif2 = f2*f2\n",
    "\n",
    "    # value of m^2\n",
    "    m2 = m*m\n",
    "\n",
    "    #compute gx\n",
    "    gx_den=np.sqrt(phif2+m2)\n",
    "    gx_num = gx_den/M + 1 \n",
    "    gx=gx_num/gx_den\n",
    "\n",
    "    #compute gx prime \n",
    "    gxp_num= -f*fprime\n",
    "    gxp_den = gx_den*gx_den*gx_den\n",
    "    gxprime= gxp_num/gxp_den\n",
    "\n",
    "    #round number to avoid having too large number \n",
    "    gx = gx\n",
    "    gxprime = gxprime\n",
    "\n",
    "    #return\n",
    "    re=np.array([gx,gxprime])\n",
    "    return re\n",
    "\n",
    "########################################### \n",
    "#  Numerical method with G prime included #\n",
    "###########################################\n",
    "\n",
    "@njit(float64[:](float64,float64,float64,float64,float64[:]))\n",
    "def e_m_ada_withG(y0,tau,b1,dt,dtbounds):\n",
    "    \"\"\"\n",
    "    The Euler-Maruyama scheme applied to the infinite double well\n",
    "    y0: float\n",
    "        value of y at t_n\n",
    "    tau: float\n",
    "        value of the temperature \n",
    "    b1: float\n",
    "        brownian increment \n",
    "    dt: float\n",
    "        time increment\n",
    "    \"\"\"\n",
    "    re=getg(y0,dt,dtbounds)\n",
    "    gy=re[0]\n",
    "    nablag=re[1]\n",
    "    newdt = np.round(gy*dt,7)\n",
    "    y1=y0-getminusdU(y0)*newdt+tau*nablag*dt+np.sqrt(tau*dt*2)*b1*np.sqrt(gy)\n",
    "    yt=np.array([y1,newdt])\n",
    "    return yt    \n",
    "\n",
    "\n",
    "# @njit(float64[:](float64,float64,float64,float64[:]))\n",
    "@njit(nopython=True)\n",
    "def run_untilT_withG(T,dt,tau,dtbounds):\n",
    "    \"\"\"\n",
    "    Run the simulation for one sample path\n",
    "    Input\n",
    "    -----\n",
    "    Ntot: int\n",
    "        Number of steps to take to get to Tf with dt\n",
    "    dt: float \n",
    "        Value of time increment. Is 1/N.\n",
    "    tau: float \n",
    "        Is in sqrt(2 \\tau dt). \n",
    "    Return\n",
    "    ------\n",
    "    yf: float\n",
    "        Value of X(T) as approximated by the numerical scheme chosen\n",
    "    \"\"\"\n",
    "\n",
    "    y0 = np.random.normal(0,1) #initial value\n",
    "    t=0 #initialise time at t=0\n",
    "    t_count=0.0 #count the number of steps in time required \n",
    "    while t<T:\n",
    "        b1 = np.random.normal(0,1)\n",
    "        yt = e_m_ada_withG(y0,tau,b1,dt,dtbounds)\n",
    "        y1=yt[0]\n",
    "        newdt=yt[1]\n",
    "        y0=y1 \n",
    "        t=np.round(t+newdt,7)\n",
    "        t_count=t_count+1\n",
    "    y_t = np.array([y0,t_count])\n",
    "    return (y_t)\n",
    "\n",
    "####################################################\n",
    "#  Numerical method ran over M statistical samples #\n",
    "####################################################\n",
    "\n",
    "@njit(parallel=True)\n",
    "def nsample_ada(n_samples,T,dt,tau,dtbounds,metod): # Function is compiled and runs in machine code\n",
    "\n",
    "    \"\"\"\n",
    "    Input\n",
    "    -------\n",
    "    n_samples: int\n",
    "        Number of sample to draw\n",
    "    T: int \n",
    "        Final time\n",
    "    dt: float\n",
    "        Size of the time discretization \n",
    "    tau: float\n",
    "        Value of the temperature of the DW SDE (+ sqrt(2*tau)*dW)\n",
    "    method: function\n",
    "        Numerical scheme used for the DW SDE\n",
    "    Return\n",
    "    -------\n",
    "    y_final: np.array\n",
    "        Array of shape (M,). Sample of numerical approximation of the DW SDE at time T\n",
    "    \n",
    "    \"\"\"\n",
    "\n",
    "    # yt_list=np.zeros((n_samples,2)) #vector to save solutions and number of run\n",
    "    yt_list=[]\n",
    "\n",
    "    for i in range(n_samples):\n",
    "        yf_t =method(T,dt,tau,dtbounds)\n",
    "        yt_list.append(yf_t[0])\n",
    "        # yt_list[i,::]=yf_t\n",
    "    yt_list= np.array(yt_list)\n",
    "    return yt_list\n"
   ]
  },
  {
   "cell_type": "code",
   "execution_count": 8,
   "metadata": {},
   "outputs": [
    {
     "name": "stdout",
     "output_type": "stream",
     "text": [
      "CPU times: user 155 ms, sys: 0 ns, total: 155 ms\n",
      "Wall time: 16 ms\n",
      "CPU times: user 3min 15s, sys: 207 ms, total: 3min 16s\n",
      "Wall time: 19.2 s\n"
     ]
    }
   ],
   "source": [
    "## RUNNING TIME 3min !!\n",
    "n_samples=100000\n",
    "T=10\n",
    "tau=1\n",
    "dt=0.01\n",
    "dtbounds = np.array([0.01,0.01])\n",
    "## environ 20 sec for those parameters\n",
    "method=run_untilT_withG\n",
    "### Compile and run without the correction term G\n",
    "####################-------######################\n",
    "%time nsample_ada(1,T,dt,tau,dtbounds,method)\n",
    "%time y_nonada= nsample_ada(n_samples,T,dt,tau,dtbounds,method)\n"
   ]
  },
  {
   "cell_type": "code",
   "execution_count": 45,
   "metadata": {},
   "outputs": [
    {
     "data": {
      "text/plain": [
       "[<matplotlib.lines.Line2D at 0x7f3a1b7c5070>]"
      ]
     },
     "execution_count": 45,
     "metadata": {},
     "output_type": "execute_result"
    },
    {
     "data": {
      "image/png": "[encoded data removed]",
      "text/plain": [
       "<Figure size 360x360 with 1 Axes>"
      ]
     },
     "metadata": {
      "needs_background": "light"
     },
     "output_type": "display_data"
    }
   ],
   "source": [
    "bound=5\n",
    "fig, ((ax1))= plt.subplots(1,1,figsize=(5,5))# plt.figure(figsize=(4,4))\n",
    "fig.subplots_adjust(left=0.1,bottom=0.1, right=0.9, top=0.9, wspace=0.4, hspace=0.4)\n",
    "\n",
    "### Plot without the correction term G\n",
    "########-------#######################\n",
    "histogram,bins = np.histogram(y_nonada,bins=100,range=[-bound,bound], density=True)\n",
    "midx = (bins[0:-1]+bins[1:])/2\n",
    "ax1.plot(midx,histogram,label=\"without G\",color=\"green\")\n",
    "rho = np.exp(- (getU(midx)/tau))\n",
    "rho = rho / ( np.sum(rho) * (midx[1]-midx[0]) ) \n",
    "ax1.plot(midx,rho,'--',label='Truth',color=\"orange\")"
   ]
  },
  {
   "cell_type": "markdown",
   "metadata": {},
   "source": [
    "A bias is introduced by the adaptive method... Something is not working here.\n",
    "\n",
    "\n",
    "### Order of accuracy of non transformed SDE"
   ]
  },
  {
   "cell_type": "code",
   "execution_count": 27,
   "metadata": {},
   "outputs": [],
   "source": [
    "# Compute the accuracte likelihood in the true solution\n",
    "tau = 0.1\n",
    "nbins=10\n",
    "a=-10\n",
    "b=10\n",
    "Z1 = integrate.quad(lambda q: np.exp(-getU(q)/tau), -10,10)[0]\n",
    "# Z_bin = integrate.quad(lambda q: np.exp(-getU(q)/tau), a,b)[0]/Z1\n",
    "\n",
    "# Loop through the solution to obtain an order of accuracy\n",
    "## Run for a large number of samples\n",
    "nbins=70\n",
    "T=10\n",
    "nsamples=1000000\n",
    "dt_list=[ np.round(2**(-j),5) for j in range(1,8,1)]\n",
    "accuracy_list=[]\n",
    "for j in dt_list:\n",
    "    y= nsample(nsamples,T,j,tau)\n",
    "    histogram,bins = np.histogram(y,bins=nbins,range=[-2,2], density=True)\n",
    "    histogram = histogram/np.sum(histogram)\n",
    "    error=0\n",
    "    for i in range(0,len(bins)-1):\n",
    "        a = bins[i]\n",
    "        b = bins[i+1]\n",
    "        Z_bin = integrate.quad(lambda q: np.exp(-getU(q)/tau), a,b)[0]/Z1\n",
    "        error = error+np.abs(histogram[i]-Z_bin)\n",
    "    accuracy_list.append(error)"
   ]
  },
  {
   "cell_type": "code",
   "execution_count": 28,
   "metadata": {},
   "outputs": [
    {
     "name": "stdout",
     "output_type": "stream",
     "text": [
      "0.9002419643474521\n"
     ]
    }
   ],
   "source": [
    "logx1=np.log(dt_list[0])\n",
    "logx2=np.log(dt_list[-1])\n",
    "logy1=np.log(accuracy_list[0])\n",
    "logy2=np.log(accuracy_list[-1])\n",
    "a=(logy1-logy2)/(logx1-logx2)\n",
    "b=logy1-a*logx1\n",
    "print(a)\n",
    "x=np.linspace(logx1,logx2,1000)\n",
    "y_x=a*x+b\n",
    "a_round=np.round(np.abs(a),2)"
   ]
  },
  {
   "cell_type": "code",
   "execution_count": 29,
   "metadata": {},
   "outputs": [
    {
     "data": {
      "text/plain": [
       "<matplotlib.legend.Legend at 0x7f5f90fce5e0>"
      ]
     },
     "execution_count": 29,
     "metadata": {},
     "output_type": "execute_result"
    },
    {
     "data": {
      "image/png": "[encoded data removed]",
      "text/plain": [
       "<Figure size 720x504 with 1 Axes>"
      ]
     },
     "metadata": {
      "needs_background": "light"
     },
     "output_type": "display_data"
    }
   ],
   "source": [
    "fig, (ax1)= plt.subplots(1,1,figsize=(10,7))# plt.figure(figsize=(4,4))\n",
    "fig.subplots_adjust(left=0.1,bottom=0.1, right=0.9, top=0.9, wspace=0.4, hspace=0.4)\n",
    "ax1.plot(np.log(dt_list),np.log(accuracy_list),label=\"Error on bins\")\n",
    "ax1.plot(x,y_x,\"--\",label=\"slope=\"+str(a_round))\n",
    "ax1.set_ylabel(\"$\\log(\\epsilon)$\")\n",
    "ax1.set_xlabel(\"$\\log(h)$\")\n",
    "ax1.set_title(\"Accuracy on EM with $U(x)=0.1 x^2+\\cos(x)^2$\")\n",
    "ax1.legend()"
   ]
  }
 ],
 "metadata": {
  "kernelspec": {
   "display_name": "Python 3.8.10 64-bit",
   "language": "python",
   "name": "python3"
  },
  "language_info": {
   "codemirror_mode": {
    "name": "ipython",
    "version": 3
   },
   "file_extension": ".py",
   "mimetype": "text/x-python",
   "name": "python",
   "nbconvert_exporter": "python",
   "pygments_lexer": "ipython3",
   "version": "3.8.10"
  },
  "orig_nbformat": 4,
  "vscode": {
   "interpreter": {
    "hash": "916dbcbb3f70747c44a77c7bcd40155683ae19c65e1c03b4aa3499c5328201f1"
   }
  }
 },
 "nbformat": 4,
 "nbformat_minor": 2
}

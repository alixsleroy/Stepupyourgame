{
 "cells": [
  {
   "cell_type": "markdown",
   "metadata": {},
   "source": [
    "We have:\n",
    "$$\n",
    "g(x) = \\frac{\\sqrt{c^4 - 4 c^3 x + 6 c^2 x^2 - 4 c x^3 + m_1 + x^4}}{M_1 \\sqrt{c^4 - 4 c^3 x + 6 c^2 x^2 - 4 c x^3 + m_1 + x^4} + 1}\n",
    "$$\n",
    "with $M_1=1/M$ and $m_1=1/m$. And for $g'(x)$, we have \n",
    "$$\n",
    "\\frac{d}{dx}\\frac{\\sqrt{c^4 - 4 c^3 x + 6 c^2 x^2 - 4 c x^3 + m_1 + x^4}}{(M_1 \\sqrt{c^4 - 4 c^3 x + 6 c^2 x^2 - 4 c x^3 + m_1 + x^4} + 1} = -\\frac{2 (c - x)^3}{(\\sqrt{(c - x)^4 + m_1} (M_1 \\sqrt{(c - x)^4 + m_1} + 1)^2}\n",
    "$$"
   ]
  },
  {
   "cell_type": "code",
   "execution_count": 18,
   "metadata": {},
   "outputs": [],
   "source": [
    "#define m1              1./0.8           // minimum step scale factor\n",
    "#define M1              1./1.2              // maximum step scale factor\n",
    "#define numsam          10000           // number of sample\n",
    "#define numruns         10000         // total number of trajectories\n",
    "#define ds              0.01\n",
    "#define tau             0.1   \n",
    "import matplotlib.pyplot as plt\n",
    "import re\n",
    "import os\n",
    "import sys\n",
    "import numpy as np\n",
    "from scipy.stats import norm\n",
    "\n",
    "m1=1/0.5\n",
    "M1=1/1.5\n",
    "a=0.5\n",
    "c=0.5"
   ]
  },
  {
   "cell_type": "code",
   "execution_count": 19,
   "metadata": {},
   "outputs": [],
   "source": [
    "\n",
    "def getg(x):\n",
    "    xc=(x-c)\n",
    "    xc4=xc*xc*xc*xc\n",
    "    xi=np.sqrt(1+m1*xc4)\n",
    "    g=xi/(M1*xi+xc*xc)\n",
    "    return(g)\n",
    "\n",
    "def getgprime(x):\n",
    "    xc=x-c\n",
    "    xc4=xc*xc*xc*xc\n",
    "    xi=np.sqrt(1+m1*xc4)\n",
    "    den=M1*xi+xc*xc\n",
    "    gp=-2*xc/(xi*den*den)\n",
    "    return(gp)\n"
   ]
  },
  {
   "cell_type": "code",
   "execution_count": 20,
   "metadata": {},
   "outputs": [
    {
     "data": {
      "text/plain": [
       "[<matplotlib.lines.Line2D at 0x7fefafd6dd90>]"
      ]
     },
     "execution_count": 20,
     "metadata": {},
     "output_type": "execute_result"
    },
    {
     "data": {
      "image/png": "[encoded data removed]",
      "text/plain": [
       "<Figure size 432x288 with 1 Axes>"
      ]
     },
     "metadata": {
      "needs_background": "light"
     },
     "output_type": "display_data"
    }
   ],
   "source": [
    "s=np.linspace(-10,10,1000)\n",
    "\n",
    "plt.plot(s,getg(s))\n",
    "plt.plot(s,getgprime(s))"
   ]
  }
 ],
 "metadata": {
  "kernelspec": {
   "display_name": "Python 3",
   "language": "python",
   "name": "python3"
  },
  "language_info": {
   "codemirror_mode": {
    "name": "ipython",
    "version": 3
   },
   "file_extension": ".py",
   "mimetype": "text/x-python",
   "name": "python",
   "nbconvert_exporter": "python",
   "pygments_lexer": "ipython3",
   "version": "3.8.10"
  },
  "orig_nbformat": 4
 },
 "nbformat": 4,
 "nbformat_minor": 2
}
